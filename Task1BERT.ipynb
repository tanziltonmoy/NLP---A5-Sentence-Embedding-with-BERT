{
  "cells": [
    {
      "attachments": {},
      "cell_type": "markdown",
      "metadata": {
        "id": "bSz5jzj61nHc"
      },
      "source": [
        "# BERT"
      ]
    },
    {
      "cell_type": "code",
      "execution_count": 1,
      "metadata": {},
      "outputs": [],
      "source": [
        "import math\n",
        "import re\n",
        "from random import *\n",
        "import numpy as np\n",
        "import torch\n",
        "import torch.nn as nn\n",
        "import torch.optim as optim\n",
        "import torch.nn.functional as F"
      ]
    },
    {
      "cell_type": "markdown",
      "metadata": {},
      "source": [
        "## 1. Data"
      ]
    },
    {
      "cell_type": "code",
      "execution_count": 2,
      "metadata": {},
      "outputs": [
        {
          "data": {
            "text/plain": [
              "Dataset({\n",
              "    features: ['text'],\n",
              "    num_rows: 10000\n",
              "})"
            ]
          },
          "execution_count": 2,
          "metadata": {},
          "output_type": "execute_result"
        }
      ],
      "source": [
        "import datasets\n",
        "dataset = datasets.load_dataset('bookcorpus', split='train[:10000]')\n",
        "dataset"
      ]
    },
    {
      "attachments": {},
      "cell_type": "markdown",
      "metadata": {},
      "source": [
        "## 2. Preprocessing\n",
        "\n",
        "### Tokenization and numericalization"
      ]
    },
    {
      "cell_type": "code",
      "execution_count": 3,
      "metadata": {},
      "outputs": [],
      "source": [
        "import torchtext\n",
        "\n",
        "tokenizer = torchtext.data.utils.get_tokenizer('basic_english')"
      ]
    },
    {
      "cell_type": "code",
      "execution_count": 4,
      "metadata": {},
      "outputs": [
        {
          "data": {
            "text/plain": [
              "10000"
            ]
          },
          "execution_count": 4,
          "metadata": {},
          "output_type": "execute_result"
        }
      ],
      "source": [
        "sentences = [x.replace(\"\\n\", \" \") for x in dataset['text']]\n",
        "# Remove any text which, after tokenized, has tokens length > 125\n",
        "sentences = [x for x in sentences if len(tokenizer(x)) <= 125]\n",
        "len(sentences)"
      ]
    },
    {
      "cell_type": "code",
      "execution_count": 5,
      "metadata": {},
      "outputs": [],
      "source": [
        "#lower case, and clean all the symbols\n",
        "text = [x.lower() for x in sentences]\n",
        "text = [re.sub(\"[.,!?\\\\-]\", '', x) for x in text]"
      ]
    },
    {
      "cell_type": "code",
      "execution_count": 6,
      "metadata": {},
      "outputs": [],
      "source": [
        "# Tokenize the cleaned text\n",
        "tokenized_sentences = [tokenizer(sentence) for sentence in text]"
      ]
    },
    {
      "cell_type": "code",
      "execution_count": 7,
      "metadata": {},
      "outputs": [],
      "source": [
        "# Build vocabulary from the tokenized sentences\n",
        "vocab = torchtext.vocab.build_vocab_from_iterator(tokenized_sentences, specials=[\"[PAD]\", \"[CLS]\", \"[SEP]\", \"[MASK]\", \"[UNK]\"])\n",
        "vocab.set_default_index(vocab['[UNK]'])"
      ]
    },
    {
      "cell_type": "code",
      "execution_count": 8,
      "metadata": {},
      "outputs": [],
      "source": [
        "# Get the size of the vocabulary\n",
        "vocab_size = len(vocab)"
      ]
    },
    {
      "cell_type": "code",
      "execution_count": 9,
      "metadata": {},
      "outputs": [],
      "source": [
        "# Save the vocabulary for later use\n",
        "torch.save(vocab, './model/vocab.pth')"
      ]
    },
    {
      "cell_type": "code",
      "execution_count": 10,
      "metadata": {},
      "outputs": [],
      "source": [
        "# Convert sentences to numerical representation using the vocabulary\n",
        "token_list = [[vocab[token] for token in tokens] for tokens in tokenized_sentences]"
      ]
    },
    {
      "cell_type": "code",
      "execution_count": 11,
      "metadata": {},
      "outputs": [],
      "source": [
        "# Optionally, we can save 'token_list' for training\n",
        "torch.save(token_list, './model/tokenized_sentences.pth')"
      ]
    },
    {
      "attachments": {},
      "cell_type": "markdown",
      "metadata": {},
      "source": [
        "## 3. Data loader\n",
        "\n",
        "We gonna make dataloader.  Inside here, we need to make two types of embeddings: **token embedding** and **segment embedding**\n",
        "\n",
        "1. **Token embedding** - Given “The cat is walking. The dog is barking”, we add [CLS] and [SEP] >> “[CLS] the cat is walking [SEP] the dog is barking”. \n",
        "\n",
        "2. **Segment embedding**\n",
        "A segment embedding separates two sentences, i.e., [0 0 0 0 1 1 1 1 ]\n",
        "\n",
        "3. **Masking**\n",
        "As mentioned in the original paper, BERT randomly assigns masks to 15% of the sequence. In this 15%, 80% is replaced with masks, while 10% is replaced with random tokens, and the rest 10% is left as is.  Here we specified `max_pred` \n",
        "\n",
        "4. **Padding**\n",
        "Once we mask, we will add padding. For simplicity, here we padded until some specified `max_len`. \n",
        "\n",
        "Note:  `positive` and `negative` are just simply counts to keep track of the batch size.  `positive` refers to two sentences that are really next to one another."
      ]
    },
    {
      "cell_type": "code",
      "execution_count": 12,
      "metadata": {},
      "outputs": [],
      "source": [
        "batch_size = 6\n",
        "max_mask   = 5 #even though it does not reach 15% yet....maybe you can set this threshold\n",
        "max_len    = 256 #maximum length that my transformer will accept.....all sentence will be padded"
      ]
    },
    {
      "cell_type": "code",
      "execution_count": 13,
      "metadata": {},
      "outputs": [],
      "source": [
        "def make_batch(batch_size, max_mask, max_len):\n",
        "    batch = []\n",
        "    half_batch_size = batch_size // 2\n",
        "    positive = negative = 0\n",
        "    while positive != half_batch_size or negative != half_batch_size:\n",
        "        \n",
        "        # Randomly choose two sentences from the pre-processed token list\n",
        "        tokens_a_index, tokens_b_index = np.random.randint(len(sentences), size=2)\n",
        "        tokens_a, tokens_b = token_list[tokens_a_index], token_list[tokens_b_index]\n",
        "        \n",
        "        # Construct input_ids by concatenating [CLS], tokens_a, [SEP], tokens_b, and [SEP]\n",
        "        input_ids = [vocab['[CLS]']] + tokens_a + [vocab['[SEP]']] + tokens_b + [vocab['[SEP]']]\n",
        "        \n",
        "        # Create segment_ids to differentiate between the two sentences (0s for the first, 1s for the second)\n",
        "        segment_ids = [0] * (1 + len(tokens_a) + 1) + [1] * (len(tokens_b) + 1)\n",
        "        \n",
        "        # Determine the number of tokens to mask based on 15% of the sequence length\n",
        "        n_pred = min(max_mask, max(1, int(round(len(input_ids) * 0.15))))\n",
        "        \n",
        "        # Identify candidate positions for masking, excluding [CLS] and [SEP]\n",
        "        candidates_masked_pos = [i for i, token in enumerate(input_ids) if token != vocab['[CLS]'] and token != vocab['[SEP]']]\n",
        "        np.random.shuffle(candidates_masked_pos)\n",
        "        masked_tokens, masked_pos = [], []\n",
        "        \n",
        "        # Apply masking with a probability distribution: 10% random token, 80% [MASK], 10% unchanged\n",
        "        for pos in candidates_masked_pos[:n_pred]:\n",
        "            masked_pos.append(pos)\n",
        "            masked_tokens.append(input_ids[pos])\n",
        "            rand_val = np.random.random()\n",
        "            if rand_val < 0.1:  # 10% chance to replace with a random token\n",
        "                index = np.random.randint(4, vocab_size - 1)  # Exclude special tokens\n",
        "                input_ids[pos] = vocab[vocab.get_itos()[index]]\n",
        "            elif rand_val < 0.8:  # 80% chance to replace with [MASK]\n",
        "                input_ids[pos] = vocab['[MASK]']\n",
        "            # 10% chance to leave the token unchanged\n",
        "            \n",
        "        # Pad input_ids and segment_ids to the maximum sequence length\n",
        "        n_pad = max_len - len(input_ids)\n",
        "        input_ids.extend([0] * n_pad)  # Using vocab['[PAD]'] might be more explicit\n",
        "        segment_ids.extend([0] * n_pad)\n",
        "        \n",
        "        # Pad masked_tokens and masked_pos to ensure uniformity\n",
        "        if max_mask > n_pred:\n",
        "            n_pad = max_mask - n_pred\n",
        "            masked_tokens.extend([0] * n_pad)  # Consider using a placeholder other than 0 for clarity\n",
        "            masked_pos.extend([0] * n_pad)\n",
        "        \n",
        "        # Append the processed example to the batch, marking as positive or negative based on sentence adjacency\n",
        "        if tokens_a_index + 1 == tokens_b_index and positive < half_batch_size:\n",
        "            batch.append([input_ids, segment_ids, masked_tokens, masked_pos, True])  # True for consecutive sentences\n",
        "            positive += 1\n",
        "        elif tokens_a_index + 1 != tokens_b_index and negative < half_batch_size:\n",
        "            batch.append([input_ids, segment_ids, masked_tokens, masked_pos, False])  # False for non-consecutive sentences\n",
        "            negative += 1\n",
        "        \n",
        "    return batch\n"
      ]
    },
    {
      "cell_type": "code",
      "execution_count": 14,
      "metadata": {},
      "outputs": [],
      "source": [
        "batch = make_batch(batch_size, max_mask, max_len)"
      ]
    },
    {
      "cell_type": "code",
      "execution_count": 15,
      "metadata": {},
      "outputs": [
        {
          "data": {
            "text/plain": [
              "6"
            ]
          },
          "execution_count": 15,
          "metadata": {},
          "output_type": "execute_result"
        }
      ],
      "source": [
        "len(batch)"
      ]
    },
    {
      "cell_type": "code",
      "execution_count": 16,
      "metadata": {},
      "outputs": [],
      "source": [
        "input_ids, segment_ids, masked_tokens, masked_pos, isNext = map(torch.LongTensor, zip(*batch))"
      ]
    },
    {
      "cell_type": "code",
      "execution_count": 17,
      "metadata": {},
      "outputs": [
        {
          "data": {
            "text/plain": [
              "(torch.Size([6, 256]),\n",
              " torch.Size([6, 256]),\n",
              " torch.Size([6, 5]),\n",
              " torch.Size([6, 5]),\n",
              " tensor([0, 0, 0, 1, 1, 1]))"
            ]
          },
          "execution_count": 17,
          "metadata": {},
          "output_type": "execute_result"
        }
      ],
      "source": [
        "input_ids.shape, segment_ids.shape, masked_tokens.shape, masked_pos.shape, isNext"
      ]
    },
    {
      "cell_type": "code",
      "execution_count": 18,
      "metadata": {},
      "outputs": [
        {
          "data": {
            "text/plain": [
              "tensor([[   5,    5,   14,   70,    0],\n",
              "        [   6,   12,  298,   72,    0],\n",
              "        [  31,    5,  421,   10,    0],\n",
              "        [  87,   68,  746,    6,    0],\n",
              "        [ 358, 1185,   57,   10,    0],\n",
              "        [  13,    6,    0,    0,    0]])"
            ]
          },
          "execution_count": 18,
          "metadata": {},
          "output_type": "execute_result"
        }
      ],
      "source": [
        "masked_tokens"
      ]
    },
    {
      "attachments": {},
      "cell_type": "markdown",
      "metadata": {},
      "source": [
        "## 4. Model\n",
        "\n",
        "Recall that BERT only uses the encoder.\n",
        "\n",
        "BERT has the following components:\n",
        "\n",
        "- Embedding layers\n",
        "- Attention Mask\n",
        "- Encoder layer\n",
        "- Multi-head attention\n",
        "- Scaled dot product attention\n",
        "- Position-wise feed-forward network\n",
        "- BERT (assembling all the components)"
      ]
    },
    {
      "attachments": {},
      "cell_type": "markdown",
      "metadata": {},
      "source": [
        "## 4.1 Embedding\n",
        "\n",
        "<img src = \"../figures/BERT_embed.png\" width=500>"
      ]
    },
    {
      "cell_type": "code",
      "execution_count": 19,
      "metadata": {},
      "outputs": [],
      "source": [
        "class Embedding(nn.Module):\n",
        "    \"\"\"\n",
        "    Embedding layer that combines token embeddings, position embeddings, and segment embeddings,\n",
        "    followed by layer normalization. Designed for use in transformer models.\n",
        "    \"\"\"\n",
        "    def __init__(self, vocab_size, max_len, n_segments, d_model, device):\n",
        "        \"\"\"\n",
        "        Initializes the embedding layer.\n",
        "\n",
        "        Args:\n",
        "            vocab_size (int): Size of the vocabulary.\n",
        "            max_len (int): Maximum length of the input sequences.\n",
        "            n_segments (int): Number of distinct segments or types of tokens.\n",
        "            d_model (int): Dimensionality of the embeddings.\n",
        "            device (torch.device): The device (CPU/GPU) where the tensors will be allocated.\n",
        "        \"\"\"\n",
        "        super(Embedding, self).__init__()\n",
        "        self.tok_embed = nn.Embedding(vocab_size, d_model)  # Embedding layer for token IDs.\n",
        "        self.pos_embed = nn.Embedding(max_len, d_model)     # Embedding layer for positional encoding.\n",
        "        self.seg_embed = nn.Embedding(n_segments, d_model)  # Embedding layer for segment IDs.\n",
        "        self.norm = nn.LayerNorm(d_model)  # Layer normalization to stabilize the inputs to the subsequent layers.\n",
        "        self.device = device  # Specifies the device for tensor allocation.\n",
        "\n",
        "    def forward(self, x, seg):\n",
        "        \"\"\"\n",
        "        Forward pass of the embedding layer.\n",
        "\n",
        "        Args:\n",
        "            x (Tensor): Input tensor with token IDs. Shape: (batch_size, sequence_length).\n",
        "            seg (Tensor): Segment ID tensor to indicate different parts of the input. Shape: (batch_size, sequence_length).\n",
        "\n",
        "        Returns:\n",
        "            Tensor: The combined embeddings with normalization applied. Shape: (batch_size, sequence_length, d_model).\n",
        "        \"\"\"\n",
        "        seq_len = x.size(1)  # Determine the sequence length from the input tensor.\n",
        "        \n",
        "        # Generate a position tensor, move it to the specified device, and match its shape with the input tensor.\n",
        "        pos = torch.arange(seq_len, dtype=torch.long).to(self.device)\n",
        "        pos = pos.unsqueeze(0).expand_as(x)  # Shape transformation to match `x`.\n",
        "        \n",
        "        # Compute the sum of token embeddings, position embeddings, and segment embeddings.\n",
        "        embedding = self.tok_embed(x) + self.pos_embed(pos) + self.seg_embed(seg)\n",
        "        \n",
        "        # Apply layer normalization to the combined embeddings before returning.\n",
        "        return self.norm(embedding)\n"
      ]
    },
    {
      "cell_type": "markdown",
      "metadata": {},
      "source": [
        "## 4.2 Attention mask"
      ]
    },
    {
      "cell_type": "code",
      "execution_count": 20,
      "metadata": {
        "id": "s1PGksqBNuZM"
      },
      "outputs": [],
      "source": [
        "def get_attn_pad_mask(seq_q, seq_k, device):\n",
        "    batch_size, len_q = seq_q.size()\n",
        "    batch_size, len_k = seq_k.size()\n",
        "    # eq(zero) is PAD token\n",
        "    pad_attn_mask = seq_k.data.eq(0).unsqueeze(1).to(device)  # batch_size x 1 x len_k(=len_q), one is masking\n",
        "    return pad_attn_mask.expand(batch_size, len_q, len_k)  # batch_size x len_q x len_k"
      ]
    },
    {
      "cell_type": "markdown",
      "metadata": {},
      "source": [
        "### Testing the attention mask"
      ]
    },
    {
      "cell_type": "code",
      "execution_count": 21,
      "metadata": {},
      "outputs": [
        {
          "name": "stdout",
          "output_type": "stream",
          "text": [
            "torch.Size([6, 256, 256])\n"
          ]
        }
      ],
      "source": [
        "print(get_attn_pad_mask(input_ids, input_ids, 'cpu').shape)"
      ]
    },
    {
      "attachments": {},
      "cell_type": "markdown",
      "metadata": {},
      "source": [
        "## 4.3 Encoder\n",
        "\n",
        "The encoder has two main components: \n",
        "\n",
        "- Multi-head Attention\n",
        "- Position-wise feed-forward network\n",
        "\n",
        "First let's make the wrapper called `EncoderLayer`"
      ]
    },
    {
      "cell_type": "code",
      "execution_count": 22,
      "metadata": {},
      "outputs": [],
      "source": [
        "class EncoderLayer(nn.Module):\n",
        "    \"\"\"\n",
        "    Represents a single layer within a transformer encoder.\n",
        "    \n",
        "    This layer consists of two main components:\n",
        "    1. Multi-head self-attention mechanism.\n",
        "    2. Position-wise feed-forward network.\n",
        "    \n",
        "    Each encoder layer processes the input sequence using self-attention and then applies a position-wise feed-forward neural network to the result.\n",
        "    \"\"\"\n",
        "    def __init__(self, n_heads, d_model, d_ff, d_k, device):\n",
        "        \"\"\"\n",
        "        Initializes the encoder layer with specified parameters.\n",
        "        \n",
        "        Args:\n",
        "            n_heads (int): Number of attention heads.\n",
        "            d_model (int): Dimensionality of the model's output space.\n",
        "            d_ff (int): Dimensionality of the feed-forward network's inner layer.\n",
        "            d_k (int): Dimensionality of the key/query vectors in the attention mechanism.\n",
        "            device (torch.device): Device (CPU/GPU) on which the computations will be executed.\n",
        "        \"\"\"\n",
        "        super(EncoderLayer, self).__init__()\n",
        "        self.enc_self_attn = MultiHeadAttention(n_heads, d_model, d_k, device)  # Initializes the multi-head self-attention.\n",
        "        self.pos_ffn = PoswiseFeedForwardNet(d_model, d_ff)  # Initializes the position-wise feed-forward network.\n",
        "\n",
        "    def forward(self, enc_inputs, enc_self_attn_mask):\n",
        "        \"\"\"\n",
        "        Forward pass of the encoder layer.\n",
        "        \n",
        "        Args:\n",
        "            enc_inputs (Tensor): Input tensor to the encoder layer. Shape: (batch_size, sequence_length, d_model).\n",
        "            enc_self_attn_mask (Tensor): Mask tensor for self-attention mechanism to ignore specific positions within the input. Shape: (batch_size, sequence_length).\n",
        "        \n",
        "        Returns:\n",
        "            Tuple[Tensor, Tensor]: A tuple containing:\n",
        "                - The output of the encoder layer after processing `enc_inputs`. Shape: (batch_size, sequence_length, d_model).\n",
        "                - The attention weights from the multi-head self-attention mechanism. Shape varies based on implementation.\n",
        "        \"\"\"\n",
        "        # Applies self-attention to the input. The same tensor `enc_inputs` is used as queries, keys, and values.\n",
        "        enc_outputs, attn = self.enc_self_attn(enc_inputs, enc_inputs, enc_inputs, enc_self_attn_mask)\n",
        "        \n",
        "        # Applies the position-wise feed-forward network to the output of the self-attention mechanism.\n",
        "        enc_outputs = self.pos_ffn(enc_outputs)\n",
        "        \n",
        "        return enc_outputs, attn\n"
      ]
    },
    {
      "cell_type": "markdown",
      "metadata": {},
      "source": [
        "Let's define the scaled dot attention, to be used inside the multihead attention"
      ]
    },
    {
      "cell_type": "code",
      "execution_count": 23,
      "metadata": {},
      "outputs": [],
      "source": [
        "class ScaledDotProductAttention(nn.Module):\n",
        "    \"\"\"\n",
        "    Implements the scaled dot-product attention mechanism.\n",
        "\n",
        "    The attention function used here is the dot product of queries and keys, scaled by the square root of the dimensionality of keys, followed by application of a softmax function to obtain the weights on the values.\n",
        "    \"\"\"\n",
        "    def __init__(self, d_k, device):\n",
        "        \"\"\"\n",
        "        Initializes the ScaledDotProductAttention layer.\n",
        "\n",
        "        Args:\n",
        "            d_k (int): Dimensionality of the key vectors. It is used to scale the dot product of the queries and keys.\n",
        "            device (torch.device): Specifies the device for computation. This is important for\n",
        "                                   transferring the scaling factor to the same device as the input tensors.\n",
        "        \"\"\"\n",
        "        super(ScaledDotProductAttention, self).__init__()\n",
        "        # Scale factor for the dot products, sqrt(d_k), moved to the specified device.\n",
        "        self.scale = torch.sqrt(torch.FloatTensor([d_k])).to(device)\n",
        "\n",
        "    def forward(self, Q, K, V, attn_mask):\n",
        "        \"\"\"\n",
        "        Forward pass of the scaled dot-product attention.\n",
        "\n",
        "        Args:\n",
        "            Q (Tensor): Queries. Shape: [batch_size, n_heads, len_q, d_k].\n",
        "            K (Tensor): Keys. Shape: [batch_size, n_heads, len_k, d_k].\n",
        "            V (Tensor): Values. Shape: [batch_size, n_heads, len_v(=len_k), d_v].\n",
        "            attn_mask (Tensor): An attention mask to prevent attention to certain positions. This is important for masking out padding tokens. Shape: [batch_size, n_heads, len_q, len_k].\n",
        "\n",
        "        Returns:\n",
        "            Tuple[Tensor, Tensor]: A tuple containing:\n",
        "                - The context tensor after applying attention to the value vectors. Shape: [batch_size, n_heads, len_q, d_v].\n",
        "                - The attention weights. Shape: [batch_size, n_heads, len_q, len_k].\n",
        "        \"\"\"\n",
        "        # Calculate the dot products of Q and K, scale them, and apply the attention mask.\n",
        "        scores = torch.matmul(Q, K.transpose(-1, -2)) / self.scale\n",
        "        scores.masked_fill_(attn_mask, -1e9)  # Apply attention mask with a large negative number to softmax.\n",
        "\n",
        "        # Apply softmax to get the attention weights.\n",
        "        attn = nn.Softmax(dim=-1)(scores)\n",
        "\n",
        "        # Multiply the attention weights with the value vectors to get the context.\n",
        "        context = torch.matmul(attn, V)\n",
        "\n",
        "        return context, attn\n"
      ]
    },
    {
      "cell_type": "markdown",
      "metadata": {},
      "source": [
        "Let's define the parameters first"
      ]
    },
    {
      "cell_type": "code",
      "execution_count": 24,
      "metadata": {},
      "outputs": [],
      "source": [
        "n_layers = 6    # number of Encoder of Encoder Layer\n",
        "n_heads  = 8    # number of heads in Multi-Head Attention\n",
        "d_model  = 768  # Embedding Size\n",
        "d_ff = 768 * 4  # 4*d_model, FeedForward dimension\n",
        "d_k = d_v = 64  # dimension of K(=Q), V\n",
        "n_segments = 2"
      ]
    },
    {
      "cell_type": "markdown",
      "metadata": {},
      "source": [
        "Here is the Multiheadattention."
      ]
    },
    {
      "cell_type": "code",
      "execution_count": 25,
      "metadata": {},
      "outputs": [],
      "source": [
        "class MultiHeadAttention(nn.Module):\n",
        "    \"\"\"\n",
        "    Implements the Multi-Head Attention mechanism, a crucial component in Transformers. \n",
        "    This mechanism allows the model to jointly attend to information from different representation subspaces at different positions.\n",
        "    \"\"\"\n",
        "    def __init__(self, n_heads, d_model, d_k, device):\n",
        "        \"\"\"\n",
        "        Initializes the MultiHeadAttention layer.\n",
        "        \n",
        "        Args:\n",
        "            n_heads (int): Number of attention heads.\n",
        "            d_model (int): Dimensionality of the model's output space.\n",
        "            d_k (int): Dimensionality of the key/query vectors in each attention head.\n",
        "            device (torch.device): Device (CPU/GPU) on which the computations will be executed.\n",
        "        \"\"\"\n",
        "        super(MultiHeadAttention, self).__init__()\n",
        "        self.n_heads = n_heads\n",
        "        self.d_model = d_model\n",
        "        self.d_k = d_k\n",
        "        self.d_v = d_k  # For simplicity, size of 'v' is made equal to that of 'k'.\n",
        "        # Linear transformations for queries, keys, and values\n",
        "        self.W_Q = nn.Linear(d_model, d_k * n_heads)\n",
        "        self.W_K = nn.Linear(d_model, d_k * n_heads)\n",
        "        self.W_V = nn.Linear(d_model, d_k * n_heads)  # Note: d_v is used as d_k for consistency.\n",
        "        self.device = device\n",
        "        # Output linear transformation\n",
        "        self.fc = nn.Linear(n_heads * d_k, d_model).to(device)\n",
        "        # Layer normalization\n",
        "        self.layer_norm = nn.LayerNorm(d_model).to(device)\n",
        "\n",
        "    def forward(self, Q, K, V, attn_mask):\n",
        "        \"\"\"\n",
        "        Forward pass of the MultiHeadAttention layer.\n",
        "        \n",
        "        Args:\n",
        "            Q (Tensor): Queries tensor. Shape: [batch_size, len_q, d_model].\n",
        "            K (Tensor): Keys tensor. Shape: [batch_size, len_k, d_model].\n",
        "            V (Tensor): Values tensor. Shape: [batch_size, len_v(=len_k), d_model].\n",
        "            attn_mask (Tensor): Tensor indicating positions to be masked with negative infinity for softmax. Shape: [batch_size, len_q, len_k].\n",
        "        \n",
        "        Returns:\n",
        "            Tuple[Tensor, Tensor]: A tuple containing:\n",
        "                - Output tensor after applying multi-head attention and residual connection followed by layer normalization. Shape: [batch_size, len_q, d_model].\n",
        "                - Attention weights across the heads. Shape: [batch_size, n_heads, len_q, len_k].\n",
        "        \"\"\"\n",
        "        residual, batch_size = Q.clone(), Q.size(0)\n",
        "        # Prepare query, key, value tensors for attention mechanism\n",
        "        q_s = self.W_Q(Q).view(batch_size, -1, self.n_heads, self.d_k).transpose(1,2)\n",
        "        k_s = self.W_K(K).view(batch_size, -1, self.n_heads, self.d_k).transpose(1,2)\n",
        "        v_s = self.W_V(V).view(batch_size, -1, self.n_heads, self.d_v).transpose(1,2)\n",
        "        # Repeat attn_mask for each attention head\n",
        "        attn_mask = attn_mask.unsqueeze(1).repeat(1, self.n_heads, 1, 1)\n",
        "\n",
        "        # Apply scaled dot product attention\n",
        "        context, attn = ScaledDotProductAttention(self.d_k, self.device)(q_s, k_s, v_s, attn_mask)\n",
        "        # Concatenate heads and apply final linear transformation\n",
        "        context = context.transpose(1, 2).contiguous().view(batch_size, -1, self.n_heads * self.d_v)\n",
        "        output = self.fc(context)\n",
        "        # Apply layer normalization and residual connection\n",
        "        return self.layer_norm(output + residual), attn\n"
      ]
    },
    {
      "attachments": {},
      "cell_type": "markdown",
      "metadata": {},
      "source": [
        "Here is the PoswiseFeedForwardNet."
      ]
    },
    {
      "cell_type": "code",
      "execution_count": 26,
      "metadata": {},
      "outputs": [],
      "source": [
        "import torch.nn as nn\n",
        "import torch.nn.functional as F\n",
        "\n",
        "class PoswiseFeedForwardNet(nn.Module):\n",
        "    \"\"\"\n",
        "    Implements a position-wise feedforward network as described in the Transformer model architecture.\n",
        "    This network is applied to each position separately and identically. It consists of two fully-connected layers\n",
        "    with a GELU non-linearity between them.\n",
        "    \"\"\"\n",
        "    def __init__(self, d_model, d_ff):\n",
        "        \"\"\"\n",
        "        Initializes the position-wise feedforward network.\n",
        "\n",
        "        Args:\n",
        "            d_model (int): The number of expected features in the input (model dimension).\n",
        "            d_ff (int): The dimensionality of the feed-forward network's inner layer.\n",
        "        \"\"\"\n",
        "        super(PoswiseFeedForwardNet, self).__init__()\n",
        "        # First fully connected layer increases dimensionality from d_model to d_ff\n",
        "        self.fc1 = nn.Linear(d_model, d_ff)\n",
        "        # Second fully connected layer decreases dimensionality back from d_ff to d_model\n",
        "        self.fc2 = nn.Linear(d_ff, d_model)\n",
        "\n",
        "    def forward(self, x):\n",
        "        \"\"\"\n",
        "        Forward pass through the position-wise feedforward network.\n",
        "\n",
        "        Args:\n",
        "            x (Tensor): The input tensor with shape [batch_size, sequence_length, d_model].\n",
        "\n",
        "        Returns:\n",
        "            Tensor: The output tensor with the same shape as the input, [batch_size, sequence_length, d_model].\n",
        "        \"\"\"\n",
        "        # Apply the first linear transformation followed by a GELU non-linearity\n",
        "        # Then apply the second linear transformation to project the dimensions back\n",
        "        return self.fc2(F.gelu(self.fc1(x)))\n"
      ]
    },
    {
      "cell_type": "markdown",
      "metadata": {},
      "source": [
        "## 4.4 Putting them together"
      ]
    },
    {
      "cell_type": "code",
      "execution_count": 27,
      "metadata": {
        "id": "OZ0TJ84W4SZw"
      },
      "outputs": [],
      "source": [
        "class BERT(nn.Module):\n",
        "    def __init__(self, n_layers, n_heads, d_model, d_ff, d_k, n_segments, vocab_size, max_len, device):\n",
        "        super(BERT, self).__init__()\n",
        "        self.params = {'n_layers': n_layers, 'n_heads': n_heads, 'd_model': d_model,\n",
        "                       'd_ff': d_ff, 'd_k': d_k, 'n_segments': n_segments,\n",
        "                       'vocab_size': vocab_size, 'max_len': max_len}\n",
        "        self.embedding = Embedding(vocab_size, max_len, n_segments, d_model, device)\n",
        "        self.layers = nn.ModuleList([EncoderLayer(n_heads, d_model, d_ff, d_k, device) for _ in range(n_layers)])\n",
        "        self.fc = nn.Linear(d_model, d_model)\n",
        "        self.activ = nn.Tanh()\n",
        "        self.linear = nn.Linear(d_model, d_model)\n",
        "        self.norm = nn.LayerNorm(d_model)\n",
        "        self.classifier = nn.Linear(d_model, 2)\n",
        "        # decoder is shared with embedding layer\n",
        "        embed_weight = self.embedding.tok_embed.weight\n",
        "        n_vocab, n_dim = embed_weight.size()\n",
        "        self.decoder = nn.Linear(n_dim, n_vocab, bias=False)\n",
        "        self.decoder.weight = embed_weight\n",
        "        self.decoder_bias = nn.Parameter(torch.zeros(n_vocab))\n",
        "        self.device = device\n",
        "\n",
        "    def forward(self, input_ids, segment_ids, masked_pos):\n",
        "        output = self.embedding(input_ids, segment_ids)\n",
        "        enc_self_attn_mask = get_attn_pad_mask(input_ids, input_ids, self.device)\n",
        "        for layer in self.layers:\n",
        "            output, enc_self_attn = layer(output, enc_self_attn_mask)\n",
        "        # output : [batch_size, len, d_model], attn : [batch_size, n_heads, d_mode, d_model]\n",
        "        \n",
        "        # 1. predict next sentence\n",
        "        # it will be decided by first token(CLS)\n",
        "        h_pooled   = self.activ(self.fc(output[:, 0])) # [batch_size, d_model]\n",
        "        logits_nsp = self.classifier(h_pooled) # [batch_size, 2]\n",
        "\n",
        "        # 2. predict the masked token\n",
        "        masked_pos = masked_pos[:, :, None].expand(-1, -1, output.size(-1)) # [batch_size, max_pred, d_model]\n",
        "        h_masked = torch.gather(output, 1, masked_pos) # masking position [batch_size, max_pred, d_model]\n",
        "        h_masked  = self.norm(F.gelu(self.linear(h_masked)))\n",
        "        logits_lm = self.decoder(h_masked) + self.decoder_bias # [batch_size, max_pred, n_vocab]\n",
        "\n",
        "        return logits_lm, logits_nsp\n",
        "    \n",
        "    def get_last_hidden_state(self, input_ids, segment_ids):\n",
        "        output = self.embedding(input_ids, segment_ids)\n",
        "        enc_self_attn_mask = get_attn_pad_mask(input_ids, input_ids, self.device)\n",
        "        for layer in self.layers:\n",
        "            output, enc_self_attn = layer(output, enc_self_attn_mask)\n",
        "\n",
        "        return output"
      ]
    },
    {
      "attachments": {},
      "cell_type": "markdown",
      "metadata": {},
      "source": [
        "## 5. Training"
      ]
    },
    {
      "cell_type": "code",
      "execution_count": 28,
      "metadata": {},
      "outputs": [
        {
          "name": "stdout",
          "output_type": "stream",
          "text": [
            "cpu\n"
          ]
        }
      ],
      "source": [
        "# Check if CUDA (GPU support) is available and set PyTorch to use it, otherwise use the CPU\n",
        "device = 'cuda' if torch.cuda.is_available() else 'cpu'\n",
        "print(device)\n",
        "\n",
        "# Set a fixed seed for PyTorch's random number generator for reproducibility\n",
        "SEED = 1234\n",
        "torch.manual_seed(SEED)\n",
        "\n",
        "# Ensure that CUDA's convolution operations are deterministic\n",
        "# This may impact performance, but it ensures reproducibility\n",
        "torch.backends.cudnn.deterministic = True\n"
      ]
    },
    {
      "cell_type": "code",
      "execution_count": 29,
      "metadata": {},
      "outputs": [],
      "source": [
        "# Transformer model configuration parameters.\n",
        "\n",
        "n_layers = 6    # Encoder layers: Increases depth for learning complex patterns.\n",
        "n_heads  = 8    # Attention heads: Allows simultaneous focus on different sequence parts.\n",
        "d_model  = 768  # Embedding dimension: Affects model capacity and representation.\n",
        "d_ff = 768 * 4  # FeedForward dimension: Inner layer dimension, typically 4x d_model.\n",
        "d_k = d_v = 64  # Key/query and value vector dimensions in attention mechanism.\n",
        "n_segments = 2  # Segment types: Used for tasks with multiple sequences (e.g., NSP)."
      ]
    },
    {
      "cell_type": "code",
      "execution_count": 30,
      "metadata": {},
      "outputs": [
        {
          "name": "stderr",
          "output_type": "stream",
          "text": [
            "Preparing batches for Epoch 1: 100%|██████████| 250/250 [18:27<00:00,  4.43s/it]\n",
            "Epoch 1: 100%|██████████| 250/250 [15:24<00:00,  3.70s/it]\n"
          ]
        },
        {
          "name": "stdout",
          "output_type": "stream",
          "text": [
            "Epoch: 01, Loss: 28.975339\n"
          ]
        },
        {
          "name": "stderr",
          "output_type": "stream",
          "text": [
            "Preparing batches for Epoch 2: 100%|██████████| 250/250 [19:19<00:00,  4.64s/it]\n",
            "Epoch 2: 100%|██████████| 250/250 [15:04<00:00,  3.62s/it]\n"
          ]
        },
        {
          "name": "stdout",
          "output_type": "stream",
          "text": [
            "Epoch: 02, Loss: 9.930248\n"
          ]
        },
        {
          "name": "stderr",
          "output_type": "stream",
          "text": [
            "Preparing batches for Epoch 3: 100%|██████████| 250/250 [19:37<00:00,  4.71s/it]\n",
            "Epoch 3: 100%|██████████| 250/250 [14:33<00:00,  3.50s/it]"
          ]
        },
        {
          "name": "stdout",
          "output_type": "stream",
          "text": [
            "Epoch: 03, Loss: 8.619430\n"
          ]
        },
        {
          "name": "stderr",
          "output_type": "stream",
          "text": [
            "\n"
          ]
        }
      ],
      "source": [
        "from tqdm import tqdm\n",
        "import torch\n",
        "import torch.nn as nn\n",
        "import torch.optim as optim\n",
        "\n",
        "# Assuming model configuration parameters and the make_batch function are defined elsewhere\n",
        "\n",
        "# Setting up training parameters and the model\n",
        "num_epoch = 3\n",
        "num_step = 250  # Number of training steps per epoch\n",
        "\n",
        "device = torch.device('cuda' if torch.cuda.is_available() else 'cpu')\n",
        "\n",
        "# Initialize the model, loss criterion, and optimizer\n",
        "model = BERT(n_layers, n_heads, d_model, d_ff, d_k, n_segments, vocab_size, max_len, device).to(device)\n",
        "criterion = nn.CrossEntropyLoss()\n",
        "optimizer = optim.Adam(model.parameters(), lr=0.001)\n",
        "\n",
        "# Training loop\n",
        "for epoch in range(num_epoch):\n",
        "    epoch_loss = 0\n",
        "    # Generate batches for each epoch to introduce variability\n",
        "    batch = [make_batch(batch_size, max_mask, max_len) for _ in tqdm(range(num_step), desc=f\"Preparing batches for Epoch {epoch+1}\")]\n",
        "\n",
        "    for step in tqdm(range(num_step), desc=f\"Epoch {epoch+1}\"):\n",
        "        optimizer.zero_grad()\n",
        "        # Unpack the batch data and move tensors to the appropriate device\n",
        "        input_ids, segment_ids, masked_tokens, masked_pos, isNext = map(torch.LongTensor, zip(*batch[step]))\n",
        "        input_ids, segment_ids = input_ids.to(device), segment_ids.to(device)\n",
        "        masked_tokens, masked_pos = masked_tokens.to(device), masked_pos.to(device)\n",
        "        isNext = isNext.to(device)\n",
        "\n",
        "        # Forward pass through the model\n",
        "        logits_lm, logits_nsp = model(input_ids, segment_ids, masked_pos)\n",
        "\n",
        "        # Compute losses for both MLM and NSP tasks\n",
        "        loss_lm = criterion(logits_lm.transpose(1, 2), masked_tokens)  # Masked Language Model Loss\n",
        "        loss_nsp = criterion(logits_nsp, isNext)  # Next Sentence Prediction Loss\n",
        "        loss = loss_lm + loss_nsp\n",
        "\n",
        "        # Backward pass and optimization\n",
        "        loss.backward()\n",
        "        optimizer.step()\n",
        "        epoch_loss += loss.item()\n",
        "\n",
        "    # Log the average loss for the epoch\n",
        "    print(f'Epoch: {epoch + 1:02d}, Loss: {epoch_loss / num_step:.6f}')\n"
      ]
    },
    {
      "cell_type": "code",
      "execution_count": 31,
      "metadata": {},
      "outputs": [],
      "source": [
        "# save model\n",
        "save_path = './model/bert.pt'\n",
        "torch.save([model.params, model.state_dict()], save_path)"
      ]
    },
    {
      "attachments": {},
      "cell_type": "markdown",
      "metadata": {},
      "source": [
        "## 6. Inference\n"
      ]
    },
    {
      "cell_type": "code",
      "execution_count": 32,
      "metadata": {},
      "outputs": [
        {
          "data": {
            "text/plain": [
              "<All keys matched successfully>"
            ]
          },
          "execution_count": 32,
          "metadata": {},
          "output_type": "execute_result"
        }
      ],
      "source": [
        "params, state = torch.load(save_path)\n",
        "model = BERT(**params, device=device).to(device)\n",
        "model.load_state_dict(state)"
      ]
    },
    {
      "cell_type": "code",
      "execution_count": 35,
      "metadata": {},
      "outputs": [
        {
          "name": "stdout",
          "output_type": "stream",
          "text": [
            "['[CLS]', 'regardless', 'if', '[MASK]', 'agree', 'or', 'understand', '[MASK]', '[MASK]', \"'\", '[SEP]', 'pesh', 'turned', 'to', 'megan', 'and', 'gave', 'her', 'a', 'sheepish', 'smile', '[SEP]']\n",
            "masked tokens (words):  [\"'\", 'it', 'we', '[PAD]', '[PAD]']\n",
            "masked tokens list:  [5, 23, 46, 0, 0]\n",
            "predicted masked tokens (words):  ['[PAD]', '[PAD]', '[PAD]', '[PAD]', '[PAD]']\n",
            "predicted masked tokens list:  [0, 0, 0, 0, 0]\n",
            "NSP prediction: 0\n",
            "Actual isNext: False\n",
            "Predicted isNext: False\n"
          ]
        }
      ],
      "source": [
        "# Assuming necessary imports, model initialization, and vocab setup are done previously\n",
        "\n",
        "# Prepare input tensors from the first batch and move them to the configured device\n",
        "# This step involves unpacking the input_ids, segment_ids, masked_tokens, masked_pos, and isNext from the batch\n",
        "input_ids, segment_ids, masked_tokens, masked_pos, isNext = map(torch.LongTensor, zip(batch[0][0]))\n",
        "input_ids = input_ids.to(device)\n",
        "segment_ids = segment_ids.to(device)\n",
        "masked_tokens = masked_tokens.to(device)\n",
        "masked_pos = masked_pos.to(device)\n",
        "isNext = isNext.to(device)\n",
        "\n",
        "# Display the input sequence excluding padding for clarity\n",
        "print([vocab.get_itos()[w.item()] for w in input_ids[0] if vocab.get_itos()[w.item()] != '[PAD]'])\n",
        "\n",
        "# Forward pass through the model to get predictions for masked tokens and NSP\n",
        "logits_lm, logits_nsp = model(input_ids, segment_ids, masked_pos)\n",
        "# logits_lm shape explanation: (batch_size, max_mask, vocab_size) -> (1, 5, vocab_size)\n",
        "# logits_nsp shape explanation: (batch_size, binary_output) -> (1, 2) for the NSP task\n",
        "\n",
        "# Processing the output logits for the masked language modeling (MLM) task\n",
        "# The `.max(2)[1]` operation retrieves the indices of the maximum values along the vocabulary dimension,\n",
        "# which correspond to the predicted token IDs\n",
        "logits_lm = logits_lm.data.cpu().max(2)[1][0].data.numpy() \n",
        "# Note: zeros in masked_tokens are padding added to match `max_mask`\n",
        "\n",
        "# Display actual and predicted masked tokens for comparison\n",
        "print('masked tokens (words): ', [vocab.get_itos()[pos.item()] for pos in masked_tokens[0]])\n",
        "print('masked tokens list: ', [pos.item() for pos in masked_tokens[0]])\n",
        "print('predicted masked tokens (words): ', [vocab.get_itos()[pos.item()] for pos in logits_lm])\n",
        "print('predicted masked tokens list: ', [pos for pos in logits_lm])\n",
        "\n",
        "# Processing the output logits for the NSP task\n",
        "# The `.max(1)[1]` operation retrieves the index of the maximum value along the binary output dimension,\n",
        "# indicating the model's prediction for the NSP task (0 for \"no\", 1 for \"yes\")\n",
        "logits_nsp = logits_nsp.data.cpu().max(1)[1][0].data.numpy()\n",
        "print('NSP prediction:', logits_nsp)\n",
        "\n",
        "# Comparing the actual NSP label with the model's prediction\n",
        "print('Actual isNext:', bool(isNext.item()))\n",
        "print('Predicted isNext:', bool(logits_nsp))\n"
      ]
    },
    {
      "cell_type": "markdown",
      "metadata": {},
      "source": [
        "Trying a bigger dataset should be able to see the difference."
      ]
    }
  ],
  "metadata": {
    "colab": {
      "provenance": []
    },
    "kernelspec": {
      "display_name": "Python 3",
      "name": "python3"
    },
    "language_info": {
      "codemirror_mode": {
        "name": "ipython",
        "version": 3
      },
      "file_extension": ".py",
      "mimetype": "text/x-python",
      "name": "python",
      "nbconvert_exporter": "python",
      "pygments_lexer": "ipython3",
      "version": "3.10.4"
    }
  },
  "nbformat": 4,
  "nbformat_minor": 0
}
